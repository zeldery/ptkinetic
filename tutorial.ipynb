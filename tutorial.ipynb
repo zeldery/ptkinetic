{
 "cells": [
  {
   "cell_type": "markdown",
   "metadata": {},
   "source": [
    "## ptkinetic tutorial\n",
    "_Thien-Phuc Tu-Nguyen_\n",
    "\n",
    "**ptkinetic** is a package for kinetic simulation. With the initial concentrations and the rate constants, the package is able to plot the concentrations of all chemicals during time with an accuracy."
   ]
  },
  {
   "cell_type": "code",
   "execution_count": 1,
   "metadata": {
    "collapsed": true
   },
   "outputs": [],
   "source": [
    "# Import important packages\n",
    "import numpy as np\n",
    "from ptkinetic import Kinetic\n",
    "%matplotlib inline"
   ]
  },
  {
   "cell_type": "code",
   "execution_count": 2,
   "metadata": {
    "collapsed": true
   },
   "outputs": [],
   "source": [
    "# Create an Kinetic object\n",
    "obj = Kinetic()"
   ]
  },
  {
   "cell_type": "code",
   "execution_count": 3,
   "metadata": {
    "collapsed": true
   },
   "outputs": [],
   "source": [
    "# Add the chemical and reaction\n",
    "obj.add_chemical('A', 0.1) # Name, concentration, stable (default no)\n",
    "obj.add_chemical('B', 0.5, True) # B does not change in the simulation\n",
    "obj.add_chemical('C', 0.0)\n",
    "\n",
    "obj.add_reaction(['A','B'], ['C'], 0.5)"
   ]
  },
  {
   "cell_type": "code",
   "execution_count": 4,
   "metadata": {
    "collapsed": true
   },
   "outputs": [],
   "source": [
    "# Initialization\n",
    "obj.init(100) # The number of steps per cycle"
   ]
  },
  {
   "cell_type": "code",
   "execution_count": 5,
   "metadata": {
    "collapsed": true
   },
   "outputs": [],
   "source": [
    "obj.run(200, 0.01) # Run 200 cycles, each cycles last 0.01 time unit\n",
    "obj.run(150, 0.02) # Can run again with different cycle time"
   ]
  },
  {
   "cell_type": "code",
   "execution_count": 6,
   "metadata": {},
   "outputs": [
    {
     "name": "stdout",
     "output_type": "stream",
     "text": [
      "[[  1.00000000e-01   5.00000000e-01   0.00000000e+00]\n",
      " [  9.97503091e-02   5.00000000e-01   2.49690878e-04]\n",
      " [  9.95012417e-02   5.00000000e-01   4.98758300e-04]\n",
      " [  9.92527962e-02   5.00000000e-01   7.47203823e-04]\n",
      " [  9.90049710e-02   5.00000000e-01   9.95029001e-04]]\n",
      "[[ 0.02922854  0.5         0.07077146]\n",
      " [ 0.02908276  0.5         0.07091724]\n",
      " [ 0.02893771  0.5         0.07106229]\n",
      " [ 0.02879337  0.5         0.07120663]\n",
      " [ 0.02864976  0.5         0.07135024]]\n"
     ]
    }
   ],
   "source": [
    "# Access the pure result\n",
    "print(obj.data[:5,:]) # First 5 rows\n",
    "print(obj.data[-5:,:]) # Last 5 rows"
   ]
  },
  {
   "cell_type": "code",
   "execution_count": 7,
   "metadata": {},
   "outputs": [
    {
     "name": "stderr",
     "output_type": "stream",
     "text": [
      "/home/zeldery/anaconda3/lib/python3.6/site-packages/matplotlib/figure.py:403: UserWarning: matplotlib is currently using a non-GUI backend, so cannot show the figure\n",
      "  \"matplotlib is currently using a non-GUI backend, \"\n"
     ]
    },
    {
     "data": {
      "image/png": "[encoded data removed]",
      "text/plain": [
       "<matplotlib.figure.Figure at 0x7f9192d419e8>"
      ]
     },
     "metadata": {},
     "output_type": "display_data"
    },
    {
     "data": {
      "image/png": "[encoded data removed]",
      "text/plain": [
       "<matplotlib.figure.Figure at 0x7f9192d41a90>"
      ]
     },
     "metadata": {},
     "output_type": "display_data"
    }
   ],
   "source": [
    "# Plotting\n",
    "obj.plot() # Plot all of the data\n",
    "obj.plot(['A','C']) # Plot exact name"
   ]
  },
  {
   "cell_type": "markdown",
   "metadata": {},
   "source": [
    "### The checking mechanism\n",
    "\n",
    "The simulation is only accurate if the change in each step is small enough, that instantaneous rate is approximately same with average rate. The package has a checking mechanism that can be turned on.\n",
    "\n",
    "The checking step is based on the relative concentration change that has to be smaller than a predefined criterion.\n",
    "\n",
    "If the error occurs, there are three possible ways to fix it:\n",
    "\n",
    "* Increase number of steps per cycle in initilization step (do not change the data memory)\n",
    "* Using smaller time of cycle in each cycle (it means you have to increase number of run cycle, and increase data memory needed)\n",
    "* Using larger criterion"
   ]
  },
  {
   "cell_type": "code",
   "execution_count": 8,
   "metadata": {
    "collapsed": true
   },
   "outputs": [],
   "source": [
    "# Create the test case\n",
    "test = Kinetic()\n",
    "test.add_chemical('A',1e-5)\n",
    "test.add_chemical('B',0.2)\n",
    "test.add_chemical('C',0.0)\n",
    "test.add_reaction(['A','B'],['C'],0.01)\n",
    "\n",
    "test.init(1, True, 0.0001) # criterion is 1/10000"
   ]
  },
  {
   "cell_type": "code",
   "execution_count": 9,
   "metadata": {},
   "outputs": [
    {
     "name": "stderr",
     "output_type": "stream",
     "text": [
      "/run/media/zeldery/1A426A3B426A1BAF/data/research/TS thiol oxidant/ptkinetic/ptkinetic/ptkinetic.py:118: RuntimeWarning: invalid value encountered in true_divide\n",
      "  if self.check and np.where(temp != 0, np.abs(change_inp/temp) , 0.0).max() > self.criterion:\n"
     ]
    },
    {
     "ename": "ValueError",
     "evalue": "The change in one step is too large, decrease the step size",
     "output_type": "error",
     "traceback": [
      "\u001b[0;31m---------------------------------------------------------------------------\u001b[0m",
      "\u001b[0;31mValueError\u001b[0m                                Traceback (most recent call last)",
      "\u001b[0;32m<ipython-input-9-b8bd262f11a1>\u001b[0m in \u001b[0;36m<module>\u001b[0;34m()\u001b[0m\n\u001b[0;32m----> 1\u001b[0;31m \u001b[0mtest\u001b[0m\u001b[0;34m.\u001b[0m\u001b[0mrun\u001b[0m\u001b[0;34m(\u001b[0m\u001b[0;36m1000\u001b[0m\u001b[0;34m,\u001b[0m\u001b[0;36m0.1\u001b[0m\u001b[0;34m)\u001b[0m \u001b[0;31m#Error\u001b[0m\u001b[0;34m\u001b[0m\u001b[0m\n\u001b[0m",
      "\u001b[0;32m/run/media/zeldery/1A426A3B426A1BAF/data/research/TS thiol oxidant/ptkinetic/ptkinetic/ptkinetic.py\u001b[0m in \u001b[0;36mrun\u001b[0;34m(self, cycle, delta)\u001b[0m\n\u001b[1;32m    117\u001b[0m                 \u001b[0;31m# Only check for consumed amount, not forming amount\u001b[0m\u001b[0;34m\u001b[0m\u001b[0;34m\u001b[0m\u001b[0m\n\u001b[1;32m    118\u001b[0m                 \u001b[0;32mif\u001b[0m \u001b[0mself\u001b[0m\u001b[0;34m.\u001b[0m\u001b[0mcheck\u001b[0m \u001b[0;32mand\u001b[0m \u001b[0mnp\u001b[0m\u001b[0;34m.\u001b[0m\u001b[0mwhere\u001b[0m\u001b[0;34m(\u001b[0m\u001b[0mtemp\u001b[0m \u001b[0;34m!=\u001b[0m \u001b[0;36m0\u001b[0m\u001b[0;34m,\u001b[0m \u001b[0mnp\u001b[0m\u001b[0;34m.\u001b[0m\u001b[0mabs\u001b[0m\u001b[0;34m(\u001b[0m\u001b[0mchange_inp\u001b[0m\u001b[0;34m/\u001b[0m\u001b[0mtemp\u001b[0m\u001b[0;34m)\u001b[0m \u001b[0;34m,\u001b[0m \u001b[0;36m0.0\u001b[0m\u001b[0;34m)\u001b[0m\u001b[0;34m.\u001b[0m\u001b[0mmax\u001b[0m\u001b[0;34m(\u001b[0m\u001b[0;34m)\u001b[0m \u001b[0;34m>\u001b[0m \u001b[0mself\u001b[0m\u001b[0;34m.\u001b[0m\u001b[0mcriterion\u001b[0m\u001b[0;34m:\u001b[0m\u001b[0;34m\u001b[0m\u001b[0m\n\u001b[0;32m--> 119\u001b[0;31m                     \u001b[0;32mraise\u001b[0m \u001b[0mValueError\u001b[0m\u001b[0;34m(\u001b[0m\u001b[0;34m'The change in one step is too large, decrease the step size'\u001b[0m\u001b[0;34m)\u001b[0m\u001b[0;34m\u001b[0m\u001b[0m\n\u001b[0m\u001b[1;32m    120\u001b[0m                 \u001b[0mtemp\u001b[0m \u001b[0;34m=\u001b[0m \u001b[0mtemp\u001b[0m \u001b[0;34m+\u001b[0m \u001b[0mchange\u001b[0m\u001b[0;34m\u001b[0m\u001b[0m\n\u001b[1;32m    121\u001b[0m             \u001b[0mself\u001b[0m\u001b[0;34m.\u001b[0m\u001b[0mdata\u001b[0m\u001b[0;34m[\u001b[0m\u001b[0mcurrent\u001b[0m\u001b[0;34m,\u001b[0m\u001b[0;34m:\u001b[0m\u001b[0;34m]\u001b[0m \u001b[0;34m=\u001b[0m \u001b[0mtemp\u001b[0m\u001b[0;34m\u001b[0m\u001b[0m\n",
      "\u001b[0;31mValueError\u001b[0m: The change in one step is too large, decrease the step size"
     ]
    }
   ],
   "source": [
    "test.run(1000,0.1) #Error"
   ]
  },
  {
   "cell_type": "code",
   "execution_count": 10,
   "metadata": {},
   "outputs": [
    {
     "name": "stderr",
     "output_type": "stream",
     "text": [
      "/run/media/zeldery/1A426A3B426A1BAF/data/research/TS thiol oxidant/ptkinetic/ptkinetic/ptkinetic.py:118: RuntimeWarning: invalid value encountered in true_divide\n",
      "  if self.check and np.where(temp != 0, np.abs(change_inp/temp) , 0.0).max() > self.criterion:\n"
     ]
    }
   ],
   "source": [
    "# Solution number 1\n",
    "test1 = Kinetic()\n",
    "test1.add_chemical('A',1e-5)\n",
    "test1.add_chemical('B',0.2)\n",
    "test1.add_chemical('C',0.0)\n",
    "test1.add_reaction(['A','B'],['C'],0.01)\n",
    "test1.init(100, True, 0.0001)\n",
    "test1.run(1000,0.1)"
   ]
  },
  {
   "cell_type": "code",
   "execution_count": 11,
   "metadata": {},
   "outputs": [
    {
     "name": "stderr",
     "output_type": "stream",
     "text": [
      "/run/media/zeldery/1A426A3B426A1BAF/data/research/TS thiol oxidant/ptkinetic/ptkinetic/ptkinetic.py:118: RuntimeWarning: invalid value encountered in true_divide\n",
      "  if self.check and np.where(temp != 0, np.abs(change_inp/temp) , 0.0).max() > self.criterion:\n"
     ]
    }
   ],
   "source": [
    "# Solution number 2\n",
    "test2 = Kinetic()\n",
    "test2.add_chemical('A',1e-5)\n",
    "test2.add_chemical('B',0.2)\n",
    "test2.add_chemical('C',0.0)\n",
    "test2.add_reaction(['A','B'],['C'],0.01)\n",
    "test2.init(1, True, 0.0001)\n",
    "test2.run(10000,0.01)"
   ]
  },
  {
   "cell_type": "code",
   "execution_count": 12,
   "metadata": {},
   "outputs": [
    {
     "name": "stderr",
     "output_type": "stream",
     "text": [
      "/run/media/zeldery/1A426A3B426A1BAF/data/research/TS thiol oxidant/ptkinetic/ptkinetic/ptkinetic.py:118: RuntimeWarning: invalid value encountered in true_divide\n",
      "  if self.check and np.where(temp != 0, np.abs(change_inp/temp) , 0.0).max() > self.criterion:\n"
     ]
    }
   ],
   "source": [
    "# Solution number 3\n",
    "test3 = Kinetic()\n",
    "test3.add_chemical('A',1e-5)\n",
    "test3.add_chemical('B',0.2)\n",
    "test3.add_chemical('C',0.0)\n",
    "test3.add_reaction(['A','B'],['C'],0.01)\n",
    "test3.init(1, True, 0.01)\n",
    "test3.run(1000,0.1)"
   ]
  },
  {
   "cell_type": "code",
   "execution_count": null,
   "metadata": {
    "collapsed": true
   },
   "outputs": [],
   "source": []
  }
 ],
 "metadata": {
  "kernelspec": {
   "display_name": "Python 3",
   "language": "python",
   "name": "python3"
  },
  "language_info": {
   "codemirror_mode": {
    "name": "ipython",
    "version": 3
   },
   "file_extension": ".py",
   "mimetype": "text/x-python",
   "name": "python",
   "nbconvert_exporter": "python",
   "pygments_lexer": "ipython3",
   "version": "3.6.2"
  }
 },
 "nbformat": 4,
 "nbformat_minor": 2
}
